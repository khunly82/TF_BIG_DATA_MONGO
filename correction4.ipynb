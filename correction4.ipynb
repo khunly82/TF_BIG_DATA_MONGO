{
 "cells": [
  {
   "cell_type": "code",
   "execution_count": 6,
   "metadata": {},
   "outputs": [],
   "source": [
    "from pymongo import MongoClient\n",
    "import requests\n",
    "import time\n",
    "import json\n",
    "\n",
    "db = MongoClient('mongodb://localhost').demo\n",
    "\n",
    "centres = list(db.centresDeCompetences.find())\n",
    "\n",
    "for centre in centres:\n",
    "    data = requests.get('https://nominatim.openstreetmap.org/search?format=json&q=' + centre.get('adresse')).content\n",
    "    coords = json.loads(data)\n",
    "    db.centresDeCompetences.update_one({ '_id': centre.get('_id') }, { '$set': {\n",
    "        'lat': coords[0].get('lat'),\n",
    "        'lon': coords[0].get('lon'),\n",
    "    } })\n",
    "    time.sleep(2)"
   ]
  }
 ],
 "metadata": {
  "kernelspec": {
   "display_name": "Python 3",
   "language": "python",
   "name": "python3"
  },
  "language_info": {
   "codemirror_mode": {
    "name": "ipython",
    "version": 3
   },
   "file_extension": ".py",
   "mimetype": "text/x-python",
   "name": "python",
   "nbconvert_exporter": "python",
   "pygments_lexer": "ipython3",
   "version": "3.12.2"
  }
 },
 "nbformat": 4,
 "nbformat_minor": 2
}
