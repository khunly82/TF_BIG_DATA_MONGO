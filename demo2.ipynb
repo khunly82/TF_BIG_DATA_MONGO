{
 "cells": [
  {
   "cell_type": "code",
   "execution_count": 9,
   "metadata": {},
   "outputs": [],
   "source": [
    "import requests\n",
    "import json\n",
    "from pymongo import MongoClient\n",
    "\n",
    "db = MongoClient('mongodb://localhost').demo\n",
    "\n",
    "countries = json.loads(requests.get('https://restcountries.com/v3.1/all').content)\n",
    "\n",
    "for c in countries:\n",
    "    db.countries.insert_one({\n",
    "        'name': c.get('translations').get('fra').get('common'),\n",
    "        'isoCode': c.get('cca2'),\n",
    "        'superficie': c.get('area'),\n",
    "        'population': c.get('population'),\n",
    "        'capitales': c.get('capital')\n",
    "    })\n"
   ]
  }
 ],
 "metadata": {
  "kernelspec": {
   "display_name": "Python 3",
   "language": "python",
   "name": "python3"
  },
  "language_info": {
   "codemirror_mode": {
    "name": "ipython",
    "version": 3
   },
   "file_extension": ".py",
   "mimetype": "text/x-python",
   "name": "python",
   "nbconvert_exporter": "python",
   "pygments_lexer": "ipython3",
   "version": "3.12.2"
  }
 },
 "nbformat": 4,
 "nbformat_minor": 2
}
